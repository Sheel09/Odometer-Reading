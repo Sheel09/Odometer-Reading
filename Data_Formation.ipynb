{
 "cells": [
  {
   "cell_type": "markdown",
   "id": "f16e9f1c-3ef6-43a9-86f0-78d502ef2182",
   "metadata": {},
   "source": [
    "## Data formation. Splitting into training and validation"
   ]
  },
  {
   "cell_type": "code",
   "execution_count": 1,
   "id": "36105ff3-2ac4-4071-8947-3f0f835b53a9",
   "metadata": {
    "tags": []
   },
   "outputs": [
    {
     "name": "stdout",
     "output_type": "stream",
     "text": [
      "Dataset reorganized successfully!\n"
     ]
    }
   ],
   "source": [
    "import os\n",
    "import shutil\n",
    "import random\n",
    "\n",
    "# Paths\n",
    "source_folder = \"dataset\"\n",
    "train_folder = \"dataset/train\"\n",
    "val_folder = \"dataset/val\"\n",
    "os.makedirs(train_folder + \"/images\", exist_ok=True)\n",
    "os.makedirs(train_folder + \"/labels\", exist_ok=True)\n",
    "os.makedirs(val_folder + \"/images\", exist_ok=True)\n",
    "os.makedirs(val_folder + \"/labels\", exist_ok=True)\n",
    "\n",
    "# Get all images\n",
    "images = [f for f in os.listdir(source_folder) if f.endswith(\".jpg\")]\n",
    "random.shuffle(images)  # Shuffle data\n",
    "\n",
    "# Split 80% train, 20% val\n",
    "split_index = int(len(images) * 0.8)\n",
    "train_images = images[:split_index]\n",
    "val_images = images[split_index:]\n",
    "\n",
    "def move_files(image_list, dest_folder):\n",
    "    for img in image_list:\n",
    "        txt = img.replace(\".jpg\", \".txt\")\n",
    "        shutil.move(os.path.join(source_folder, img), os.path.join(dest_folder, \"images\", img))\n",
    "        shutil.move(os.path.join(source_folder, txt), os.path.join(dest_folder, \"labels\", txt))\n",
    "\n",
    "# Move files\n",
    "move_files(train_images, train_folder)\n",
    "move_files(val_images, val_folder)\n",
    "\n",
    "print(\"Dataset reorganized successfully!\")\n"
   ]
  },
  {
   "cell_type": "markdown",
   "id": "aa39f8cd-2a3c-4b88-b3a8-bcfbbf033f25",
   "metadata": {},
   "source": [
    "## YAML file of dataset for training"
   ]
  },
  {
   "cell_type": "code",
   "execution_count": 8,
   "id": "5bd6e3d8-e90b-472e-9b7b-e5293b5a6494",
   "metadata": {
    "tags": []
   },
   "outputs": [
    {
     "name": "stdout",
     "output_type": "stream",
     "text": [
      "data.yaml created successfully!\n"
     ]
    }
   ],
   "source": [
    "import yaml\n",
    "\n",
    "data = {\n",
    "    \"train\": \"dataset/train/images\",\n",
    "    \"val\": \"dataset/val/images\",\n",
    "    \"nc\": 2,  # Number of classes (0 and 1)\n",
    "    \"names\": [\"Odometer\", \"LCD\"]\n",
    "}\n",
    "\n",
    "with open(\"data.yaml\", \"w\") as file:\n",
    "    yaml.dump(data, file, default_flow_style=False)\n",
    "\n",
    "print(\"data.yaml created successfully!\")\n"
   ]
  },
  {
   "cell_type": "code",
   "execution_count": null,
   "id": "31ba52e8-2eeb-43a7-99fd-0e18bbadf6a6",
   "metadata": {},
   "outputs": [],
   "source": []
  }
 ],
 "metadata": {
  "kernelspec": {
   "display_name": "Python [conda env:.conda-CQ]",
   "language": "python",
   "name": "conda-env-.conda-CQ-py"
  },
  "language_info": {
   "codemirror_mode": {
    "name": "ipython",
    "version": 3
   },
   "file_extension": ".py",
   "mimetype": "text/x-python",
   "name": "python",
   "nbconvert_exporter": "python",
   "pygments_lexer": "ipython3",
   "version": "3.10.12"
  }
 },
 "nbformat": 4,
 "nbformat_minor": 5
}
